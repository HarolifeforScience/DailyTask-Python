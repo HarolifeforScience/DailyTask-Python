{
 "cells": [
  {
   "cell_type": "markdown",
   "metadata": {},
   "source": [
    "## Daily Tasks with Python "
   ]
  },
  {
   "cell_type": "markdown",
   "metadata": {},
   "source": [
    " <i> Real-Time Weather </i>\n"
   ]
  },
  {
   "cell_type": "code",
   "execution_count": null,
   "metadata": {},
   "outputs": [],
   "source": [
    "import requests\n",
    "import time\n",
    "\n",
    "API_KEY = 'your_api_key'\n",
    "CITY = 'New York'\n",
    "\n",
    "def get_weather():\n",
    "    url = f\"http://api.openweathermap.org/data/2.5/weather?q={CITY}&appid={API_KEY}\"\n",
    "    response = requests.get(url)\n",
    "    data = response.json()\n",
    "    return data['weather'][0]['description'], data['main']['temp'] - 273.15\n",
    "\n",
    "while True:\n",
    "    weather, temp = get_weather()\n",
    "    print(f\"Current weather in {CITY}: {weather}, {temp:.2f}°C\")\n",
    "    time.sleep(3600)  # Run every hour"
   ]
  }
 ],
 "metadata": {
  "kernelspec": {
   "display_name": "env",
   "language": "python",
   "name": "python3"
  },
  "language_info": {
   "codemirror_mode": {
    "name": "ipython",
    "version": 3
   },
   "file_extension": ".py",
   "mimetype": "text/x-python",
   "name": "python",
   "nbconvert_exporter": "python",
   "pygments_lexer": "ipython3",
   "version": "3.11.7"
  }
 },
 "nbformat": 4,
 "nbformat_minor": 2
}
